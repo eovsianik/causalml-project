{
 "cells": [
  {
   "cell_type": "markdown",
   "metadata": {},
   "source": [
    "### Подготовка данных"
   ]
  },
  {
   "cell_type": "code",
   "execution_count": null,
   "metadata": {},
   "outputs": [],
   "source": [
    "import ibis\n",
    "import pandas as pd"
   ]
  },
  {
   "cell_type": "code",
   "execution_count": 2,
   "metadata": {},
   "outputs": [],
   "source": [
    "con = ibis.duckdb.connect()"
   ]
  },
  {
   "cell_type": "code",
   "execution_count": 3,
   "metadata": {},
   "outputs": [],
   "source": [
    "actions = con.read_csv('data/actions.csv')\n",
    "triggers = con.read_csv('data/triggers.csv')"
   ]
  },
  {
   "cell_type": "markdown",
   "metadata": {},
   "source": [
    "Делим таблицу на ту, где есть отклик на триггер и где его нет"
   ]
  },
  {
   "cell_type": "code",
   "execution_count": 4,
   "metadata": {},
   "outputs": [],
   "source": [
    "actions_result_1 = actions.filter(actions['result'] == 1)\n",
    "actions_result_0 = actions.filter(actions['result'] == 0)"
   ]
  },
  {
   "cell_type": "markdown",
   "metadata": {},
   "source": [
    "Делаем предобработку каждой полученной таблицы, чтобы добавить к каждому действия пользователя свой триггер"
   ]
  },
  {
   "cell_type": "code",
   "execution_count": null,
   "metadata": {},
   "outputs": [],
   "source": [
    "joined_result_1 = actions_result_1.join(\n",
    "    triggers,\n",
    "    predicates=[actions_result_1['guid'] == triggers['guid']],  # Условие для соединения\n",
    "    how='inner'  # Внутреннее соединение\n",
    ")\n",
    "\n",
    "filtered_result_1 = joined_result_1.filter(\n",
    "    joined_result_1[\"date\"] >= joined_result_1[\"date_right\"]\n",
    ").order_by([joined_result_1['guid']])\n",
    "\n",
    "filtered_result_1_order = filtered_result_1.order_by(\n",
    "    [filtered_result_1[\"guid\"], filtered_result_1[\"date_right\"].desc()]\n",
    ")\n",
    "\n",
    "filtered_result_1_order_ = filtered_result_1_order.mutate(\n",
    "    time_diff=ibis.case()\n",
    "        .when(filtered_result_1_order['date'] > filtered_result_1_order['date_right'],\n",
    "              (filtered_result_1_order['date'] - filtered_result_1_order['date_right']).as_unit('s'))\n",
    "        .else_((filtered_result_1_order['date_right'] - filtered_result_1_order['date']).as_unit('s'))\n",
    "        .end()\n",
    ")\n",
    "\n",
    "closest_dates_1 = filtered_result_1_order_.group_by(['guid', 'date']).aggregate(\n",
    "    closest_date_right=filtered_result_1_order_['date_right'].argmin('time_diff')\n",
    ")\n",
    "\n",
    "final_table_1 = closest_dates_1.join(\n",
    "    triggers,\n",
    "    predicates=[\n",
    "        closest_dates_1['guid'] == triggers['guid'],\n",
    "        closest_dates_1['closest_date_right'] == triggers['date']\n",
    "    ]\n",
    ").select(\n",
    "    closest_dates_1['guid'],\n",
    "    closest_dates_1['date'],\n",
    "    closest_dates_1['closest_date_right'],\n",
    "    triggers['trigger'],\n",
    "    triggers['type']\n",
    ")\n",
    "\n",
    "final_table_1 = final_table_1.distinct()"
   ]
  },
  {
   "cell_type": "code",
   "execution_count": null,
   "metadata": {},
   "outputs": [],
   "source": [
    "df_1 = final_table_1.execute()\n",
    "df_1['time_in_minutes'] = (df_1['date'] - df_1['closest_date_right']).dt.total_seconds() / 60\n",
    "df_1.to_csv('data/trigger_on.csv', index=False)"
   ]
  },
  {
   "cell_type": "markdown",
   "metadata": {},
   "source": [
    "---"
   ]
  },
  {
   "cell_type": "code",
   "execution_count": 47,
   "metadata": {},
   "outputs": [],
   "source": [
    "joined_result_0 = actions_result_0.join(\n",
    "    triggers,\n",
    "    predicates=[actions_result_0['guid'] == triggers['guid']],  # Условие для соединения\n",
    "    how='inner'  # Внутреннее соединение\n",
    ")\n",
    "\n",
    "filtered_result_0 = joined_result_0.filter(\n",
    "    joined_result_0[\"date\"] >= joined_result_0[\"date_right\"]\n",
    ").order_by([joined_result_0['guid']])\n",
    "\n",
    "filtered_result_0_order = filtered_result_0.order_by(\n",
    "    [filtered_result_0[\"guid\"], filtered_result_0[\"date_right\"].desc()]\n",
    ")\n",
    "\n",
    "filtered_result_0_order_ = filtered_result_0_order.mutate(\n",
    "    time_diff=ibis.case()\n",
    "        .when(filtered_result_0_order['date'] > filtered_result_0_order['date_right'],\n",
    "              (filtered_result_0_order['date'] - filtered_result_0_order['date_right']).as_unit('s'))\n",
    "        .else_((filtered_result_0_order['date_right'] - filtered_result_0_order['date']).as_unit('s'))\n",
    "        .end()\n",
    ")\n",
    "\n",
    "closest_dates_0 = filtered_result_0_order_.group_by(['guid', 'date']).aggregate(\n",
    "    closest_date_right=filtered_result_0_order_['date_right'].argmin('time_diff')\n",
    ")\n",
    "\n",
    "final_table_0 = closest_dates_0.join(\n",
    "    triggers,\n",
    "    predicates=[\n",
    "        closest_dates_0['guid'] == triggers['guid'],\n",
    "        closest_dates_0['closest_date_right'] == triggers['date']\n",
    "    ]\n",
    ").select(\n",
    "    closest_dates_0['guid'],\n",
    "    closest_dates_0['date'],\n",
    "    closest_dates_0['closest_date_right'],\n",
    "    triggers['trigger'],\n",
    "    triggers['type']\n",
    ")\n",
    "\n",
    "final_table_0 = final_table_0.distinct()"
   ]
  },
  {
   "cell_type": "code",
   "execution_count": null,
   "metadata": {},
   "outputs": [],
   "source": [
    "df_0 = final_table_0.execute()\n",
    "df_0['time_in_minutes'] = (df_0['date'] - df_0['closest_date_right']).dt.total_seconds() / 60\n",
    "df_0.to_csv('data/trigger_off.csv', index=False)"
   ]
  },
  {
   "cell_type": "markdown",
   "metadata": {},
   "source": [
    "---"
   ]
  },
  {
   "cell_type": "markdown",
   "metadata": {},
   "source": [
    "### Проведем обработку полученных данных"
   ]
  },
  {
   "cell_type": "markdown",
   "metadata": {},
   "source": [
    "Создадим новые колонки: выходной/будний день и время суток отклика"
   ]
  },
  {
   "cell_type": "code",
   "execution_count": 59,
   "metadata": {},
   "outputs": [],
   "source": [
    "def is_weekend(date):\n",
    "    # Преобразуем строку в дату и проверяем день недели\n",
    "    return 1 if pd.to_datetime(date).weekday() >= 5 else 0"
   ]
  },
  {
   "cell_type": "code",
   "execution_count": null,
   "metadata": {},
   "outputs": [],
   "source": [
    "triggers_on = pd.read_csv('data/trigger_on.csv')\n",
    "triggers_on['weekend'] = triggers_on['date'].apply(is_weekend)\n",
    "triggers_off = pd.read_csv('data/trigger_off.csv')\n",
    "triggers_off['weekend'] = triggers_off['date'].apply(is_weekend)\n",
    "triggers_on.to_csv('data/triggers_on_with_weekend.csv', index=False)\n",
    "triggers_off.to_csv('data/triggers_off_with_weekend.csv', index=False)"
   ]
  },
  {
   "cell_type": "code",
   "execution_count": 67,
   "metadata": {},
   "outputs": [],
   "source": [
    "def is_morning(date):\n",
    "    hour = pd.to_datetime(date).hour\n",
    "    return 1 if 6 <= hour < 10 else 0\n",
    "\n",
    "def is_afternoon(date):\n",
    "    hour = pd.to_datetime(date).hour\n",
    "    return 1 if 10 <= hour < 18 else 0\n",
    "\n",
    "def is_evening(date):\n",
    "    hour = pd.to_datetime(date).hour\n",
    "    return 1 if 18 <= hour < 24 else 0\n",
    "\n",
    "def is_night(date):\n",
    "    hour = pd.to_datetime(date).hour\n",
    "    return 1 if 0 <= hour < 6 else 0"
   ]
  },
  {
   "cell_type": "code",
   "execution_count": 68,
   "metadata": {},
   "outputs": [],
   "source": [
    "triggers_on = pd.read_csv('data/triggers_on_with_weekend.csv')\n",
    "triggers_on['morning'] = triggers_on['date'].apply(is_morning)\n",
    "triggers_on['afternoon'] = triggers_on['date'].apply(is_afternoon)\n",
    "triggers_on['evening'] = triggers_on['date'].apply(is_evening)\n",
    "triggers_on['night'] = triggers_on['date'].apply(is_night)\n",
    "triggers_on.to_csv('data/triggers_on_with_datetime.csv', index=False)"
   ]
  },
  {
   "cell_type": "code",
   "execution_count": 69,
   "metadata": {},
   "outputs": [],
   "source": [
    "triggers_off = pd.read_csv('data/triggers_off_with_weekend.csv')\n",
    "triggers_off['morning'] = triggers_off['date'].apply(is_morning)\n",
    "triggers_off['afternoon'] = triggers_off['date'].apply(is_afternoon)\n",
    "triggers_off['evening'] = triggers_off['date'].apply(is_evening)\n",
    "triggers_off['night'] = triggers_off['date'].apply(is_night)\n",
    "triggers_off.to_csv('data/triggers_off_with_datetime.csv', index=False)"
   ]
  },
  {
   "cell_type": "code",
   "execution_count": 73,
   "metadata": {},
   "outputs": [],
   "source": [
    "triggers_on['result'] = 1\n",
    "triggers_off['result'] = 0\n",
    "\n",
    "new_actions = pd.concat([triggers_on, triggers_off], ignore_index=True)\n",
    "new_actions.to_csv('data/new_actions.csv', index=False)"
   ]
  },
  {
   "cell_type": "markdown",
   "metadata": {},
   "source": [
    "Удалим все строки, которые находятся в new_actions, из triggers"
   ]
  },
  {
   "cell_type": "code",
   "execution_count": 76,
   "metadata": {},
   "outputs": [],
   "source": [
    "new_actions_ = con.read_csv('data/new_actions.csv')\n",
    "triggers_ = con.read_csv('data/triggers.csv')"
   ]
  },
  {
   "cell_type": "code",
   "execution_count": 80,
   "metadata": {},
   "outputs": [],
   "source": [
    "filtered_triggers = triggers_.left_join(new_actions_, \n",
    "                                      predicates=[triggers_['guid'] == new_actions_['guid'],\n",
    "                                                  triggers_['date'] == new_actions_['closest_date_right'],\n",
    "                                                  triggers_['trigger'] == new_actions_['trigger']]) \\\n",
    "                            .filter(new_actions_['guid'].isnull()) "
   ]
  },
  {
   "cell_type": "code",
   "execution_count": 82,
   "metadata": {},
   "outputs": [],
   "source": [
    "filtered_triggers.to_csv('data/filtered_triggers.csv')"
   ]
  },
  {
   "cell_type": "code",
   "execution_count": 3,
   "metadata": {},
   "outputs": [],
   "source": [
    "filtered_triggers = con.read_csv('data/filtered_triggers.csv')\n",
    "new_actions = con.read_csv('data/new_actions.csv')"
   ]
  },
  {
   "cell_type": "code",
   "execution_count": 6,
   "metadata": {},
   "outputs": [],
   "source": [
    "final_triggers = filtered_triggers.filter(~filtered_triggers['guid'].isin(new_actions['guid']))"
   ]
  },
  {
   "cell_type": "code",
   "execution_count": 8,
   "metadata": {},
   "outputs": [],
   "source": [
    "final_triggers.to_csv('data/final_triggers.csv')"
   ]
  }
 ],
 "metadata": {
  "kernelspec": {
   "display_name": "venv",
   "language": "python",
   "name": "python3"
  },
  "language_info": {
   "codemirror_mode": {
    "name": "ipython",
    "version": 3
   },
   "file_extension": ".py",
   "mimetype": "text/x-python",
   "name": "python",
   "nbconvert_exporter": "python",
   "pygments_lexer": "ipython3",
   "version": "3.10.12"
  }
 },
 "nbformat": 4,
 "nbformat_minor": 2
}
